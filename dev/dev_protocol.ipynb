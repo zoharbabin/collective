{
 "cells": [
  {
   "cell_type": "code",
   "execution_count": 1,
   "metadata": {},
   "outputs": [],
   "source": [
    "import asyncio\n",
    "from abc import abstractmethod\n",
    "from collections import deque\n",
    "from typing import ClassVar\n",
    "\n",
    "from lionagi.core.communication.action_response import ActionResponse\n",
    "from lionagi import Session\n",
    "from lionagi.core.action.action_manager import ActionManager, Tool\n",
    "from lionagi.core.communication.message import RoledMessage\n",
    "from lionagi.core.generic.node import Node\n",
    "from lionagi.core.communication.action_request import ActionRequest\n",
    "from lionagi.protocols.operatives.action import ActionRequestModel, ActionResponseModel\n",
    "from pydantic import BaseModel, PrivateAttr\n",
    "from abc import ABC\n",
    "\n",
    "RESERVED_METHODS = (\n",
    "    \"__init__\",\n",
    "    \"actions\",\n",
    "    \"generate_tools\",\n",
    ")\n",
    "\n",
    "\n",
    "class Ability(BaseModel):\n",
    "\n",
    "    _tool: ClassVar[Tool | None] = None\n",
    "\n",
    "    @classmethod\n",
    "    def func_callable(cls, *args, **kwargs):\n",
    "        \"\"\"\n",
    "        Return a function that does the actual work.\n",
    "        Must be overridden in concrete classes.\n",
    "        \"\"\"\n",
    "\n",
    "        async def some_function(*args, **kwargs) -> BaseModel:\n",
    "            pass\n",
    "\n",
    "        return some_function\n",
    "\n",
    "    @classmethod\n",
    "    def as_tool(cls) -> Tool:\n",
    "        \"\"\"\n",
    "        Convert this Ability into a Tool for registration with ActionManager.\n",
    "        \"\"\"\n",
    "        if cls._tool is None:\n",
    "            func = cls.func_callable()\n",
    "            tool = Tool(function=func)\n",
    "            cls._tool = tool\n",
    "        return cls._tool"
   ]
  },
  {
   "cell_type": "code",
   "execution_count": 2,
   "metadata": {},
   "outputs": [],
   "source": [
    "# --------------------------------------------------------------------------\n",
    "# 3. Capability Base\n",
    "# --------------------------------------------------------------------------\n",
    "class Capability(ABC):\n",
    "    \"\"\"\n",
    "    A Capability groups multiple Abilities (Tools) under one manager.\n",
    "    Each Capability can process ActionRequests directed to its abilities.\n",
    "    \"\"\"\n",
    "\n",
    "    default_abilities: ClassVar[list[type[Ability]]] = []\n",
    "\n",
    "    def __init__(self):\n",
    "        self.ability_registry = {}\n",
    "        self.action_manager = ActionManager()\n",
    "\n",
    "    def register_ability(self, ability: type[Ability]):\n",
    "        tool = ability.as_tool()\n",
    "        func_name = tool.function.__name__\n",
    "        self.action_manager.register_tool(tool, update=True)\n",
    "        self.ability_registry[func_name] = ability\n",
    "\n",
    "    def dump_log(self):\n",
    "        self.action_manager.logger.dump()\n",
    "\n",
    "    async def process(self, action_request: ActionRequest) -> ActionResponse:\n",
    "        \"\"\"\n",
    "        Override if you want advanced logic before/after invocation.\n",
    "        By default, just invoke the tool and wrap the response.\n",
    "        \"\"\"\n",
    "        response = await self.action_manager.invoke(action_request)\n",
    "        return ActionResponseModel(\n",
    "            function=action_request.function,\n",
    "            arguments=action_request.arguments,\n",
    "            output=response,\n",
    "        )\n",
    "\n",
    "    @classmethod\n",
    "    def create(cls):\n",
    "        \"\"\"\n",
    "        Factory method that registers all default_abilities.\n",
    "        \"\"\"\n",
    "        capability = cls()\n",
    "        for ability_cls in cls.default_abilities:\n",
    "            capability.register_ability(ability_cls)\n",
    "        return capability"
   ]
  },
  {
   "cell_type": "code",
   "execution_count": 3,
   "metadata": {},
   "outputs": [],
   "source": [
    "from pydantic import Field\n",
    "\n",
    "\n",
    "class Recipient(BaseModel):\n",
    "    name: str\n",
    "\n",
    "\n",
    "class Agent(Node):\n",
    "\n",
    "    session: Session | None = Field(default_factory=Session)\n",
    "\n",
    "    mailbox: dict[str, dict[str, deque[RoledMessage]]] = {\n",
    "        \"pending_in\": deque(),\n",
    "        \"pending_out\": {},\n",
    "    }\n",
    "\n",
    "    capabilities: dict[str, Capability] = Field(default_factory=dict)\n",
    "    _execute_mode: bool = PrivateAttr(default=False)\n",
    "\n",
    "    @property\n",
    "    def name(self): ...\n",
    "\n",
    "    def register_capability(self, capability: type[Capability]):\n",
    "        capability = capability.create()\n",
    "        self.capabilities[capability.__class__.__name__] = capability\n",
    "\n",
    "    def send(self, message: RoledMessage):\n",
    "        if not self.mailbox[\"pending_out\"].get(message.recipient, None):\n",
    "            self.mailbox[\"pending_out\"][message.recipient] = deque()\n",
    "        self.mailbox[\"pending_out\"][message.recipient].append(message)\n",
    "\n",
    "    async def execute(self):\n",
    "        self._execute_mode = True\n",
    "        while self.mailbox[\"pending_in\"]:\n",
    "            await self.forward()\n",
    "        self._execute_mode = False\n",
    "\n",
    "    async def forward(self):\n",
    "        messages = self.mailbox[\"pending_in\"].popleft()\n",
    "        response = await self.process(messages)\n",
    "        self.send(response)\n",
    "\n",
    "    async def _decide_recipient(\n",
    "        self, message: ActionResponse, available_recipients: list[str]\n",
    "    ) -> str:\n",
    "        recipient = await self.session.default_branch.operate(\n",
    "            instruction=\"please decide a the recipient for our message\",\n",
    "            context=message.content.to_dict(),\n",
    "            guidance=f\"must choose one of the following: {available_recipients}\",\n",
    "            operative_model=Recipient,\n",
    "        )\n",
    "        return recipient.name\n",
    "\n",
    "    async def process(\n",
    "        self, action_request: ActionRequest, available_recipients: list[str]\n",
    "    ):\n",
    "        \"\"\"\n",
    "        The simplest approach:\n",
    "        1) find the right Capability that can handle the function\n",
    "        2) call its .process()\n",
    "        \"\"\"\n",
    "\n",
    "        # Search each capability to see if it has the requested tool\n",
    "        for cap_name, cap_obj in self.capabilities.items():\n",
    "            if action_request.function in cap_obj.action_manager.registry:\n",
    "                action_response_model = await cap_obj.process(action_request)\n",
    "                action_response = ActionResponse(\n",
    "                    action_request=action_request,\n",
    "                    output=action_response_model.output,\n",
    "                )\n",
    "                action_response.sender = self.name\n",
    "                action_response.recipient = await self._decide_recipient(\n",
    "                    action_response, available_recipients=available_recipients\n",
    "                )\n",
    "                self.send(action_response)\n",
    "                return\n",
    "        raise ValueError(\n",
    "            f\"No capability can handle function '{action_request.function}'!\"\n",
    "        )\n",
    "\n",
    "    def join_orchestrator(self, orchestrator):\n",
    "        orchestrator.agents[self.session.ln_id] = self"
   ]
  },
  {
   "cell_type": "code",
   "execution_count": 4,
   "metadata": {},
   "outputs": [],
   "source": [
    "class EchoAbility(Ability):\n",
    "    \"\"\"\n",
    "    Example ability that echoes a message.\n",
    "    \"\"\"\n",
    "\n",
    "    @classmethod\n",
    "    def func_callable(cls, *args, **kwargs):\n",
    "        # This is the actual function the tool calls\n",
    "        def echo_message(message: str) -> str:\n",
    "            return f\"Echo: {message}\"\n",
    "\n",
    "        return echo_message\n",
    "\n",
    "\n",
    "class CalculatorAbility(Ability):\n",
    "    \"\"\"\n",
    "    Simple ability that adds two numbers.\n",
    "    \"\"\"\n",
    "\n",
    "    @classmethod\n",
    "    def func_callable(cls, *args, **kwargs):\n",
    "        def add_numbers(x: float, y: float) -> float:\n",
    "            return x + y\n",
    "\n",
    "        return add_numbers"
   ]
  },
  {
   "cell_type": "code",
   "execution_count": 5,
   "metadata": {},
   "outputs": [],
   "source": [
    "class EchoCapability(Capability):\n",
    "    \"\"\"\n",
    "    A simple capability that includes an echo ability and a calculator ability.\n",
    "    \"\"\"\n",
    "\n",
    "    # You can define which abilities are by default available\n",
    "    default_abilities: ClassVar[list[type[Ability]]] = [EchoAbility, CalculatorAbility]"
   ]
  },
  {
   "cell_type": "code",
   "execution_count": 6,
   "metadata": {},
   "outputs": [],
   "source": [
    "echo1 = ActionRequestModel(\n",
    "    function=\"echo_message\",\n",
    "    arguments={\"message\": \"Hello, world!\"},\n",
    ")\n",
    "\n",
    "add_numbers1 = ActionRequestModel(\n",
    "    function=\"add_numbers\",\n",
    "    arguments={\"x\": 1.0, \"y\": 2.0},\n",
    ")"
   ]
  },
  {
   "cell_type": "code",
   "execution_count": 7,
   "metadata": {},
   "outputs": [],
   "source": [
    "echo_capability = EchoCapability.create()"
   ]
  },
  {
   "cell_type": "code",
   "execution_count": 8,
   "metadata": {},
   "outputs": [],
   "source": [
    "echo1_response = await echo_capability.process(echo1)\n",
    "add_numbers1_response = await echo_capability.process(add_numbers1)"
   ]
  },
  {
   "cell_type": "code",
   "execution_count": 9,
   "metadata": {},
   "outputs": [
    {
     "data": {
      "text/plain": [
       "{'function': 'echo_message',\n",
       " 'arguments': {'message': 'Hello, world!'},\n",
       " 'output': 'Echo: Hello, world!'}"
      ]
     },
     "execution_count": 9,
     "metadata": {},
     "output_type": "execute_result"
    }
   ],
   "source": [
    "echo1_response.model_dump()"
   ]
  },
  {
   "cell_type": "code",
   "execution_count": 10,
   "metadata": {},
   "outputs": [
    {
     "data": {
      "text/plain": [
       "{'function': 'add_numbers', 'arguments': {'x': 1.0, 'y': 2.0}, 'output': 3.0}"
      ]
     },
     "execution_count": 10,
     "metadata": {},
     "output_type": "execute_result"
    }
   ],
   "source": [
    "add_numbers1_response.model_dump()"
   ]
  },
  {
   "cell_type": "code",
   "execution_count": 11,
   "metadata": {},
   "outputs": [],
   "source": [
    "class DemoAgent(Agent):\n",
    "\n",
    "    @property\n",
    "    def name(self):\n",
    "        return \"alligator\"\n",
    "\n",
    "\n",
    "class Demo2Agent(Agent):\n",
    "\n",
    "    @property\n",
    "    def name(self):\n",
    "        return \"crocodile\"\n",
    "\n",
    "\n",
    "class Demo3Agent(Agent):\n",
    "\n",
    "    @property\n",
    "    def name(self):\n",
    "        return \"barracuda\""
   ]
  },
  {
   "cell_type": "code",
   "execution_count": 12,
   "metadata": {},
   "outputs": [],
   "source": [
    "demo1 = DemoAgent()\n",
    "demo1.register_capability(EchoCapability)\n",
    "\n",
    "demo2 = Demo2Agent()\n",
    "demo2.register_capability(EchoCapability)\n",
    "\n",
    "demo3 = Demo3Agent()\n",
    "demo3.register_capability(EchoCapability)"
   ]
  },
  {
   "cell_type": "code",
   "execution_count": 13,
   "metadata": {},
   "outputs": [],
   "source": [
    "echo2 = ActionRequest(\n",
    "    sender=\"user\",\n",
    "    function=\"echo_message\",\n",
    "    arguments={\"message\": \"User: Hello, world!\"},\n",
    ")\n",
    "\n",
    "echo3 = ActionRequest(\n",
    "    sender=\"assistant\",\n",
    "    function=\"echo_message\",\n",
    "    arguments={\"message\": \"Assistant Crocodile: Hello, world2!\"},\n",
    ")"
   ]
  },
  {
   "cell_type": "code",
   "execution_count": 14,
   "metadata": {},
   "outputs": [
    {
     "data": {
      "text/plain": [
       "ActionResponseModel(function='echo_message', arguments={'message': 'User: Hello, world!'}, output='Echo: User: Hello, world!')"
      ]
     },
     "execution_count": 14,
     "metadata": {},
     "output_type": "execute_result"
    }
   ],
   "source": [
    "await demo1.capabilities[\"EchoCapability\"].process(echo2)"
   ]
  },
  {
   "cell_type": "code",
   "execution_count": 15,
   "metadata": {},
   "outputs": [],
   "source": [
    "await demo1.process(\n",
    "    action_request=echo2, available_recipients=[\"crocodile\", \"barracuda\", \"alice\"]\n",
    ")"
   ]
  },
  {
   "cell_type": "code",
   "execution_count": 16,
   "metadata": {},
   "outputs": [
    {
     "data": {
      "text/plain": [
       "{'pending_in': deque([]),\n",
       " 'pending_out': {'alice': deque([ActionResponse(ln_id=IDType(5b032233-f85e-4ff9-bd72-dade1440411a), created_timestamp=2024-12-27 22:48:50.671391, content={'action_request_id': IDType(288409af-8613-40c9-8202-460be0b589da), 'action_response': {'function..., metadata={'last_updated': {'sender': 1735339730.671427, 'recipient': 1735339731.078203}}, created_timestamp=1735339730.671391, sender=alligator, recipient=alice, role=assistant, extra_fields={})])}}"
      ]
     },
     "execution_count": 16,
     "metadata": {},
     "output_type": "execute_result"
    }
   ],
   "source": [
    "demo1.mailbox"
   ]
  },
  {
   "cell_type": "code",
   "execution_count": 17,
   "metadata": {},
   "outputs": [],
   "source": [
    "await demo1.process(\n",
    "    action_request=echo3, available_recipients=[\"crocodile\", \"barracuda\", \"alice\"]\n",
    ")"
   ]
  },
  {
   "cell_type": "code",
   "execution_count": 18,
   "metadata": {},
   "outputs": [
    {
     "data": {
      "text/plain": [
       "{'pending_in': deque([]),\n",
       " 'pending_out': {'alice': deque([ActionResponse(ln_id=IDType(5b032233-f85e-4ff9-bd72-dade1440411a), created_timestamp=2024-12-27 22:48:50.671391, content={'action_request_id': IDType(288409af-8613-40c9-8202-460be0b589da), 'action_response': {'function..., metadata={'last_updated': {'sender': 1735339730.671427, 'recipient': 1735339731.078203}}, created_timestamp=1735339730.671391, sender=alligator, recipient=alice, role=assistant, extra_fields={})]),\n",
       "  'crocodile': deque([ActionResponse(ln_id=IDType(4e6e22f6-4959-44f8-a547-220a2f7f26ff), created_timestamp=2024-12-27 22:48:51.088725, content={'action_request_id': IDType(f337c24b-aeb0-4781-8f2b-4873a8cb5865), 'action_response': {'function..., metadata={'last_updated': {'sender': 1735339731.088762, 'recipient': 1735339731.65494}}, created_timestamp=1735339731.088725, sender=alligator, recipient=crocodile, role=assistant, extra_fields={})])}}"
      ]
     },
     "execution_count": 18,
     "metadata": {},
     "output_type": "execute_result"
    }
   ],
   "source": [
    "demo1.mailbox"
   ]
  },
  {
   "cell_type": "code",
   "execution_count": null,
   "metadata": {},
   "outputs": [],
   "source": []
  },
  {
   "cell_type": "code",
   "execution_count": 20,
   "metadata": {},
   "outputs": [],
   "source": [
    "class Orchestrator:\n",
    "\n",
    "    def __init__(self, refresh_rate: int = 60, agents: list[Agent] = []):\n",
    "        self.agents: dict[str, Agent] = {}\n",
    "        self.mailbox = {\n",
    "            \"pending_in\": deque(),\n",
    "            \"pending_out\": {agent.name: deque() for agent in agents},\n",
    "            \"external_out\": deque(),\n",
    "        }\n",
    "        self.external_sources = {}\n",
    "        self._stop_event = asyncio.Event()\n",
    "        self._refresh_rate = refresh_rate\n",
    "        self._lock = asyncio.Lock()\n",
    "        self._execute_mode = False\n",
    "\n",
    "    def collect(self):\n",
    "        for agent in self.agents.values():\n",
    "            for k, v in agent.mailbox[\"pending_out\"].items():\n",
    "                self.mailbox[\"pending_in\"].extend(v)\n",
    "            self.mailbox[\"pending_in\"].extend(agent.mailbox[\"pending_out\"])\n",
    "\n",
    "    def send(self):\n",
    "        while self.mailbox[\"pending_in\"]:\n",
    "            msg = self.mailbox[\"pending_in\"].popleft()\n",
    "            if msg.recipient in self.agents:\n",
    "                self.agents[msg.recipient].mailbox[\"pending_in\"].append(msg)\n",
    "            else:\n",
    "                self.mailbox[\"external_out\"].append(msg)\n",
    "\n",
    "    async def forward(self):\n",
    "        self.collect()\n",
    "        self.send()\n",
    "        tasks = [asyncio.create_task(agent.execute()) for agent in self.agents.values()]\n",
    "        asyncio.gather(*tasks)\n",
    "        self.collect()\n",
    "        await asyncio.sleep(0.1)\n",
    "\n",
    "    async def stop(self):\n",
    "        self._stop_event.set()\n",
    "\n",
    "    async def execute(self):\n",
    "        self._execute_mode = True\n",
    "        while not self._stop_event.is_set():\n",
    "            await self.forward()\n",
    "            await asyncio.sleep(self._refresh_rate)\n",
    "\n",
    "        self._execute_mode = False"
   ]
  },
  {
   "cell_type": "code",
   "execution_count": 21,
   "metadata": {},
   "outputs": [],
   "source": [
    "orch = Orchestrator(refresh_rate=60, agents=[demo1, demo2, demo3])"
   ]
  },
  {
   "cell_type": "code",
   "execution_count": 22,
   "metadata": {},
   "outputs": [],
   "source": [
    "orch.collect()"
   ]
  },
  {
   "cell_type": "code",
   "execution_count": 23,
   "metadata": {},
   "outputs": [
    {
     "data": {
      "text/plain": [
       "{'pending_in': deque([]),\n",
       " 'pending_out': {'alligator': deque([]),\n",
       "  'crocodile': deque([]),\n",
       "  'barracuda': deque([])},\n",
       " 'external_out': deque([])}"
      ]
     },
     "execution_count": 23,
     "metadata": {},
     "output_type": "execute_result"
    }
   ],
   "source": [
    "orch.mailbox"
   ]
  },
  {
   "cell_type": "code",
   "execution_count": 24,
   "metadata": {},
   "outputs": [],
   "source": [
    "orch.send()"
   ]
  },
  {
   "cell_type": "code",
   "execution_count": 19,
   "metadata": {},
   "outputs": [],
   "source": [
    "echo2 = ActionRequest(\n",
    "    sender=\"user\",\n",
    "    function=\"echo_message\",\n",
    "    arguments={\"message\": \"User: Hello, world!\"},\n",
    ")\n",
    "\n",
    "demo1.mailbox[\"pending_in\"].append(echo2)"
   ]
  },
  {
   "cell_type": "code",
   "execution_count": 20,
   "metadata": {},
   "outputs": [],
   "source": [
    "await orch.forward()"
   ]
  },
  {
   "cell_type": "code",
   "execution_count": 21,
   "metadata": {},
   "outputs": [
    {
     "data": {
      "text/plain": [
       "{'pending_in': deque([ActionRequest(ln_id=IDType(5064450a-c903-47d4-b41b-a2c9843cc750), created_timestamp=2024-12-27 22:44:57.885043, content={'action_request': {'function': 'echo_message', 'arguments': {'message': 'User: Hello, world!'}}}, metadata={}, created_timestamp=1735339497.885043, sender=user, recipient=N/A, role=assistant, extra_fields={})]),\n",
       " 'pending_out': {'alice': deque([ActionResponse(ln_id=IDType(f6ebe6cd-98c5-4af3-beea-1124db591f3c), created_timestamp=2024-12-27 22:44:57.222842, content={'action_request_id': IDType(87db6215-b87c-415b-beda-16f836e426f8), 'action_response': {'function..., metadata={'last_updated': {'sender': 1735339497.22289, 'recipient': 1735339497.863748}}, created_timestamp=1735339497.222842, sender=alligator, recipient=alice, role=assistant, extra_fields={})])}}"
      ]
     },
     "execution_count": 21,
     "metadata": {},
     "output_type": "execute_result"
    }
   ],
   "source": [
    "demo1.mailbox"
   ]
  },
  {
   "cell_type": "code",
   "execution_count": 28,
   "metadata": {},
   "outputs": [
    {
     "data": {
      "text/plain": [
       "{'pending_in': deque([]), 'pending_out': {}, 'external_out': deque([])}"
      ]
     },
     "execution_count": 28,
     "metadata": {},
     "output_type": "execute_result"
    }
   ],
   "source": [
    "orch.mailbox"
   ]
  },
  {
   "cell_type": "code",
   "execution_count": 29,
   "metadata": {},
   "outputs": [],
   "source": [
    "orch.collect()"
   ]
  },
  {
   "cell_type": "code",
   "execution_count": 30,
   "metadata": {},
   "outputs": [
    {
     "data": {
      "text/plain": [
       "{'pending_in': deque([]), 'pending_out': {}, 'external_out': deque([])}"
      ]
     },
     "execution_count": 30,
     "metadata": {},
     "output_type": "execute_result"
    }
   ],
   "source": [
    "orch.mailbox"
   ]
  },
  {
   "cell_type": "code",
   "execution_count": 22,
   "metadata": {},
   "outputs": [
    {
     "data": {
      "text/plain": [
       "{'pending_in': deque([]), 'pending_out': {}}"
      ]
     },
     "execution_count": 22,
     "metadata": {},
     "output_type": "execute_result"
    }
   ],
   "source": [
    "demo2.mailbox"
   ]
  },
  {
   "cell_type": "code",
   "execution_count": 23,
   "metadata": {},
   "outputs": [
    {
     "data": {
      "text/plain": [
       "{'pending_in': deque([]), 'pending_out': {}}"
      ]
     },
     "execution_count": 23,
     "metadata": {},
     "output_type": "execute_result"
    }
   ],
   "source": [
    "demo3.mailbox"
   ]
  },
  {
   "cell_type": "code",
   "execution_count": 24,
   "metadata": {},
   "outputs": [
    {
     "data": {
      "text/plain": [
       "{'pending_in': deque([]), 'pending_out': {}, 'external_out': deque([])}"
      ]
     },
     "execution_count": 24,
     "metadata": {},
     "output_type": "execute_result"
    }
   ],
   "source": [
    "orch.mailbox"
   ]
  },
  {
   "cell_type": "code",
   "execution_count": 25,
   "metadata": {},
   "outputs": [
    {
     "data": {
      "text/plain": [
       "deque([])"
      ]
     },
     "execution_count": 25,
     "metadata": {},
     "output_type": "execute_result"
    }
   ],
   "source": [
    "orch.mailbox[\"external_out\"]"
   ]
  },
  {
   "cell_type": "code",
   "execution_count": null,
   "metadata": {},
   "outputs": [],
   "source": []
  }
 ],
 "metadata": {
  "kernelspec": {
   "display_name": ".venv",
   "language": "python",
   "name": "python3"
  },
  "language_info": {
   "codemirror_mode": {
    "name": "ipython",
    "version": 3
   },
   "file_extension": ".py",
   "mimetype": "text/x-python",
   "name": "python",
   "nbconvert_exporter": "python",
   "pygments_lexer": "ipython3",
   "version": "3.12.8"
  }
 },
 "nbformat": 4,
 "nbformat_minor": 2
}
